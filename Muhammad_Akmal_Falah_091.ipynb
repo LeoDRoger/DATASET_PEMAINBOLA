{
  "nbformat": 4,
  "nbformat_minor": 0,
  "metadata": {
    "colab": {
      "provenance": [],
      "include_colab_link": true
    },
    "kernelspec": {
      "name": "python3",
      "display_name": "Python 3"
    },
    "language_info": {
      "name": "python"
    }
  },
  "cells": [
    {
      "cell_type": "markdown",
      "metadata": {
        "id": "view-in-github",
        "colab_type": "text"
      },
      "source": [
        "<a href=\"https://colab.research.google.com/github/LeoDRoger/DATASET_PEMAINBOLA/blob/main/Muhammad_Akmal_Falah_091.ipynb\" target=\"_parent\"><img src=\"https://colab.research.google.com/assets/colab-badge.svg\" alt=\"Open In Colab\"/></a>"
      ]
    },
    {
      "cell_type": "markdown",
      "source": [
        "# ***FOOTBALL LEAGUE***"
      ],
      "metadata": {
        "id": "WeMQk6xYpt_K"
      }
    },
    {
      "cell_type": "code",
      "source": [
        "import pandas as pd\n",
        "import seaborn as sns\n",
        "import matplotlib.pyplot as plt\n",
        "import plotly.express as px\n",
        "import numpy as np"
      ],
      "metadata": {
        "id": "Wp298hnsYod8"
      },
      "execution_count": 1,
      "outputs": []
    },
    {
      "cell_type": "markdown",
      "source": [
        "## Busninees Understanding"
      ],
      "metadata": {
        "id": "09WD-GKKqUIS"
      }
    },
    {
      "cell_type": "markdown",
      "source": [
        "### **Tujuan Bisnis:**\n",
        "\n",
        "\n",
        "* Meningkatkan peluang tim untuk memenangkan pertandingan dan liga.\n",
        "* Mengidentifikasi pemain yang berkinerja baik dan membutuhkan pengembangan.\n",
        "*   Mengoptimalkan strategi dan taktik tim.\n",
        "*   Meningkatkan pendapatan dan basis penggemar.\n",
        "\n",
        "\n",
        "### **Assess Situation**\n",
        "\n",
        "\n",
        "*   Persaingan: Bagaimana performa tim dibandingkan dengan tim lain di liga?\n",
        "*   Kekuatan dan Kelemahan: Apa saja aspek yang perlu ditingkatkan oleh tim?\n",
        "*   Peluang: Apa saja peluang yang dapat dimanfaatkan tim untuk meningkatkan performanya?\n",
        "*   Ancaman: Apa saja hambatan yang dapat menghambat performa tim?\n",
        "\n",
        "\n",
        "# **Data Mining Goals**\n",
        "Mengidentifikasi pola dan tren dalam data pertandingan dan pemain.\n",
        "Memprediksi hasil pertandingan dan performa pemain.\n",
        "Mengembangkan model untuk membantu tim dalam membuat keputusan strategis.\n",
        "\n",
        "\n",
        "### **Project Plan**\n",
        "Rencana Pertama Pemahaman bisnisnya seperti Menetapkan tujuan dan memahami kebutuhan stakeholders dan mengidentifkasi pertanyaan bisnis yang dapat di jawab dengan data mining.\n",
        "\n",
        "\n",
        "\n",
        "\n",
        "\n",
        "\n",
        "\n"
      ],
      "metadata": {
        "id": "zEbq66HrrIIr"
      }
    },
    {
      "cell_type": "markdown",
      "source": [
        "#**DATA UNDERSTANDING**"
      ],
      "metadata": {
        "id": "oi76w-FeVbvJ"
      }
    },
    {
      "cell_type": "markdown",
      "source": [
        "##**Collect Initial Data**"
      ],
      "metadata": {
        "id": "vVig1DuRVect"
      }
    },
    {
      "cell_type": "markdown",
      "source": [
        "Data ini ditemukan di Kaggle. Dataset ini menjelaskan tentang Data statistik pertandingan sepak bola dari berbagai liga di seluruh dunia.\n",
        "Data informasi pemain, seperti nama, usia, posisi, dan statistik individu.\n",
        "Data informasi tim, seperti nama, logo, dan sejarah.\n",
        "https://www.kaggle.com/code/dak1999/football-league-eda/log"
      ],
      "metadata": {
        "id": "cYUceCC8ZvaU"
      }
    },
    {
      "cell_type": "code",
      "source": [
        "df=pd.read_csv(\"/content/Data pemain bola.csv\")\n",
        "df.head()"
      ],
      "metadata": {
        "colab": {
          "base_uri": "https://localhost:8080/",
          "height": 263
        },
        "id": "p_P0i62scmJq",
        "outputId": "8e66f395-1bad-49de-f498-45497fd8f195"
      },
      "execution_count": 2,
      "outputs": [
        {
          "output_type": "execute_result",
          "data": {
            "text/plain": [
              "  Country   League   Club       Player Names  Matches_Played  Substitution   \\\n",
              "0   Spain  La Liga  (BET)    Juanmi Callejon              19             16   \n",
              "1   Spain  La Liga  (BAR)  Antoine Griezmann              36              0   \n",
              "2   Spain  La Liga  (ATL)        Luis Suarez              34              1   \n",
              "3   Spain  La Liga  (CAR)       Ruben Castro              32              3   \n",
              "4   Spain  La Liga  (VAL)      Kevin Gameiro              21             10   \n",
              "\n",
              "   Mins  Goals     xG  xG Per Avg Match  Shots  OnTarget  Shots Per Avg Match  \\\n",
              "0  1849     11   6.62              0.34     48        20                 2.47   \n",
              "1  3129     16  11.86              0.36     88        41                 2.67   \n",
              "2  2940     28  23.21              0.75    120        57                 3.88   \n",
              "3  2842     13  14.06              0.47    117        42                 3.91   \n",
              "4  1745     13  10.65              0.58     50        23                 2.72   \n",
              "\n",
              "   On Target Per Avg Match  Year  \n",
              "0                     1.03  2016  \n",
              "1                     1.24  2016  \n",
              "2                     1.84  2016  \n",
              "3                     1.40  2016  \n",
              "4                     1.25  2016  "
            ],
            "text/html": [
              "\n",
              "  <div id=\"df-fabe00e6-647d-4aaa-966c-a8b07824650c\" class=\"colab-df-container\">\n",
              "    <div>\n",
              "<style scoped>\n",
              "    .dataframe tbody tr th:only-of-type {\n",
              "        vertical-align: middle;\n",
              "    }\n",
              "\n",
              "    .dataframe tbody tr th {\n",
              "        vertical-align: top;\n",
              "    }\n",
              "\n",
              "    .dataframe thead th {\n",
              "        text-align: right;\n",
              "    }\n",
              "</style>\n",
              "<table border=\"1\" class=\"dataframe\">\n",
              "  <thead>\n",
              "    <tr style=\"text-align: right;\">\n",
              "      <th></th>\n",
              "      <th>Country</th>\n",
              "      <th>League</th>\n",
              "      <th>Club</th>\n",
              "      <th>Player Names</th>\n",
              "      <th>Matches_Played</th>\n",
              "      <th>Substitution</th>\n",
              "      <th>Mins</th>\n",
              "      <th>Goals</th>\n",
              "      <th>xG</th>\n",
              "      <th>xG Per Avg Match</th>\n",
              "      <th>Shots</th>\n",
              "      <th>OnTarget</th>\n",
              "      <th>Shots Per Avg Match</th>\n",
              "      <th>On Target Per Avg Match</th>\n",
              "      <th>Year</th>\n",
              "    </tr>\n",
              "  </thead>\n",
              "  <tbody>\n",
              "    <tr>\n",
              "      <th>0</th>\n",
              "      <td>Spain</td>\n",
              "      <td>La Liga</td>\n",
              "      <td>(BET)</td>\n",
              "      <td>Juanmi Callejon</td>\n",
              "      <td>19</td>\n",
              "      <td>16</td>\n",
              "      <td>1849</td>\n",
              "      <td>11</td>\n",
              "      <td>6.62</td>\n",
              "      <td>0.34</td>\n",
              "      <td>48</td>\n",
              "      <td>20</td>\n",
              "      <td>2.47</td>\n",
              "      <td>1.03</td>\n",
              "      <td>2016</td>\n",
              "    </tr>\n",
              "    <tr>\n",
              "      <th>1</th>\n",
              "      <td>Spain</td>\n",
              "      <td>La Liga</td>\n",
              "      <td>(BAR)</td>\n",
              "      <td>Antoine Griezmann</td>\n",
              "      <td>36</td>\n",
              "      <td>0</td>\n",
              "      <td>3129</td>\n",
              "      <td>16</td>\n",
              "      <td>11.86</td>\n",
              "      <td>0.36</td>\n",
              "      <td>88</td>\n",
              "      <td>41</td>\n",
              "      <td>2.67</td>\n",
              "      <td>1.24</td>\n",
              "      <td>2016</td>\n",
              "    </tr>\n",
              "    <tr>\n",
              "      <th>2</th>\n",
              "      <td>Spain</td>\n",
              "      <td>La Liga</td>\n",
              "      <td>(ATL)</td>\n",
              "      <td>Luis Suarez</td>\n",
              "      <td>34</td>\n",
              "      <td>1</td>\n",
              "      <td>2940</td>\n",
              "      <td>28</td>\n",
              "      <td>23.21</td>\n",
              "      <td>0.75</td>\n",
              "      <td>120</td>\n",
              "      <td>57</td>\n",
              "      <td>3.88</td>\n",
              "      <td>1.84</td>\n",
              "      <td>2016</td>\n",
              "    </tr>\n",
              "    <tr>\n",
              "      <th>3</th>\n",
              "      <td>Spain</td>\n",
              "      <td>La Liga</td>\n",
              "      <td>(CAR)</td>\n",
              "      <td>Ruben Castro</td>\n",
              "      <td>32</td>\n",
              "      <td>3</td>\n",
              "      <td>2842</td>\n",
              "      <td>13</td>\n",
              "      <td>14.06</td>\n",
              "      <td>0.47</td>\n",
              "      <td>117</td>\n",
              "      <td>42</td>\n",
              "      <td>3.91</td>\n",
              "      <td>1.40</td>\n",
              "      <td>2016</td>\n",
              "    </tr>\n",
              "    <tr>\n",
              "      <th>4</th>\n",
              "      <td>Spain</td>\n",
              "      <td>La Liga</td>\n",
              "      <td>(VAL)</td>\n",
              "      <td>Kevin Gameiro</td>\n",
              "      <td>21</td>\n",
              "      <td>10</td>\n",
              "      <td>1745</td>\n",
              "      <td>13</td>\n",
              "      <td>10.65</td>\n",
              "      <td>0.58</td>\n",
              "      <td>50</td>\n",
              "      <td>23</td>\n",
              "      <td>2.72</td>\n",
              "      <td>1.25</td>\n",
              "      <td>2016</td>\n",
              "    </tr>\n",
              "  </tbody>\n",
              "</table>\n",
              "</div>\n",
              "    <div class=\"colab-df-buttons\">\n",
              "\n",
              "  <div class=\"colab-df-container\">\n",
              "    <button class=\"colab-df-convert\" onclick=\"convertToInteractive('df-fabe00e6-647d-4aaa-966c-a8b07824650c')\"\n",
              "            title=\"Convert this dataframe to an interactive table.\"\n",
              "            style=\"display:none;\">\n",
              "\n",
              "  <svg xmlns=\"http://www.w3.org/2000/svg\" height=\"24px\" viewBox=\"0 -960 960 960\">\n",
              "    <path d=\"M120-120v-720h720v720H120Zm60-500h600v-160H180v160Zm220 220h160v-160H400v160Zm0 220h160v-160H400v160ZM180-400h160v-160H180v160Zm440 0h160v-160H620v160ZM180-180h160v-160H180v160Zm440 0h160v-160H620v160Z\"/>\n",
              "  </svg>\n",
              "    </button>\n",
              "\n",
              "  <style>\n",
              "    .colab-df-container {\n",
              "      display:flex;\n",
              "      gap: 12px;\n",
              "    }\n",
              "\n",
              "    .colab-df-convert {\n",
              "      background-color: #E8F0FE;\n",
              "      border: none;\n",
              "      border-radius: 50%;\n",
              "      cursor: pointer;\n",
              "      display: none;\n",
              "      fill: #1967D2;\n",
              "      height: 32px;\n",
              "      padding: 0 0 0 0;\n",
              "      width: 32px;\n",
              "    }\n",
              "\n",
              "    .colab-df-convert:hover {\n",
              "      background-color: #E2EBFA;\n",
              "      box-shadow: 0px 1px 2px rgba(60, 64, 67, 0.3), 0px 1px 3px 1px rgba(60, 64, 67, 0.15);\n",
              "      fill: #174EA6;\n",
              "    }\n",
              "\n",
              "    .colab-df-buttons div {\n",
              "      margin-bottom: 4px;\n",
              "    }\n",
              "\n",
              "    [theme=dark] .colab-df-convert {\n",
              "      background-color: #3B4455;\n",
              "      fill: #D2E3FC;\n",
              "    }\n",
              "\n",
              "    [theme=dark] .colab-df-convert:hover {\n",
              "      background-color: #434B5C;\n",
              "      box-shadow: 0px 1px 3px 1px rgba(0, 0, 0, 0.15);\n",
              "      filter: drop-shadow(0px 1px 2px rgba(0, 0, 0, 0.3));\n",
              "      fill: #FFFFFF;\n",
              "    }\n",
              "  </style>\n",
              "\n",
              "    <script>\n",
              "      const buttonEl =\n",
              "        document.querySelector('#df-fabe00e6-647d-4aaa-966c-a8b07824650c button.colab-df-convert');\n",
              "      buttonEl.style.display =\n",
              "        google.colab.kernel.accessAllowed ? 'block' : 'none';\n",
              "\n",
              "      async function convertToInteractive(key) {\n",
              "        const element = document.querySelector('#df-fabe00e6-647d-4aaa-966c-a8b07824650c');\n",
              "        const dataTable =\n",
              "          await google.colab.kernel.invokeFunction('convertToInteractive',\n",
              "                                                    [key], {});\n",
              "        if (!dataTable) return;\n",
              "\n",
              "        const docLinkHtml = 'Like what you see? Visit the ' +\n",
              "          '<a target=\"_blank\" href=https://colab.research.google.com/notebooks/data_table.ipynb>data table notebook</a>'\n",
              "          + ' to learn more about interactive tables.';\n",
              "        element.innerHTML = '';\n",
              "        dataTable['output_type'] = 'display_data';\n",
              "        await google.colab.output.renderOutput(dataTable, element);\n",
              "        const docLink = document.createElement('div');\n",
              "        docLink.innerHTML = docLinkHtml;\n",
              "        element.appendChild(docLink);\n",
              "      }\n",
              "    </script>\n",
              "  </div>\n",
              "\n",
              "\n",
              "<div id=\"df-a48018ff-0ecb-46df-9c5a-3ca5ab9bbe48\">\n",
              "  <button class=\"colab-df-quickchart\" onclick=\"quickchart('df-a48018ff-0ecb-46df-9c5a-3ca5ab9bbe48')\"\n",
              "            title=\"Suggest charts\"\n",
              "            style=\"display:none;\">\n",
              "\n",
              "<svg xmlns=\"http://www.w3.org/2000/svg\" height=\"24px\"viewBox=\"0 0 24 24\"\n",
              "     width=\"24px\">\n",
              "    <g>\n",
              "        <path d=\"M19 3H5c-1.1 0-2 .9-2 2v14c0 1.1.9 2 2 2h14c1.1 0 2-.9 2-2V5c0-1.1-.9-2-2-2zM9 17H7v-7h2v7zm4 0h-2V7h2v10zm4 0h-2v-4h2v4z\"/>\n",
              "    </g>\n",
              "</svg>\n",
              "  </button>\n",
              "\n",
              "<style>\n",
              "  .colab-df-quickchart {\n",
              "      --bg-color: #E8F0FE;\n",
              "      --fill-color: #1967D2;\n",
              "      --hover-bg-color: #E2EBFA;\n",
              "      --hover-fill-color: #174EA6;\n",
              "      --disabled-fill-color: #AAA;\n",
              "      --disabled-bg-color: #DDD;\n",
              "  }\n",
              "\n",
              "  [theme=dark] .colab-df-quickchart {\n",
              "      --bg-color: #3B4455;\n",
              "      --fill-color: #D2E3FC;\n",
              "      --hover-bg-color: #434B5C;\n",
              "      --hover-fill-color: #FFFFFF;\n",
              "      --disabled-bg-color: #3B4455;\n",
              "      --disabled-fill-color: #666;\n",
              "  }\n",
              "\n",
              "  .colab-df-quickchart {\n",
              "    background-color: var(--bg-color);\n",
              "    border: none;\n",
              "    border-radius: 50%;\n",
              "    cursor: pointer;\n",
              "    display: none;\n",
              "    fill: var(--fill-color);\n",
              "    height: 32px;\n",
              "    padding: 0;\n",
              "    width: 32px;\n",
              "  }\n",
              "\n",
              "  .colab-df-quickchart:hover {\n",
              "    background-color: var(--hover-bg-color);\n",
              "    box-shadow: 0 1px 2px rgba(60, 64, 67, 0.3), 0 1px 3px 1px rgba(60, 64, 67, 0.15);\n",
              "    fill: var(--button-hover-fill-color);\n",
              "  }\n",
              "\n",
              "  .colab-df-quickchart-complete:disabled,\n",
              "  .colab-df-quickchart-complete:disabled:hover {\n",
              "    background-color: var(--disabled-bg-color);\n",
              "    fill: var(--disabled-fill-color);\n",
              "    box-shadow: none;\n",
              "  }\n",
              "\n",
              "  .colab-df-spinner {\n",
              "    border: 2px solid var(--fill-color);\n",
              "    border-color: transparent;\n",
              "    border-bottom-color: var(--fill-color);\n",
              "    animation:\n",
              "      spin 1s steps(1) infinite;\n",
              "  }\n",
              "\n",
              "  @keyframes spin {\n",
              "    0% {\n",
              "      border-color: transparent;\n",
              "      border-bottom-color: var(--fill-color);\n",
              "      border-left-color: var(--fill-color);\n",
              "    }\n",
              "    20% {\n",
              "      border-color: transparent;\n",
              "      border-left-color: var(--fill-color);\n",
              "      border-top-color: var(--fill-color);\n",
              "    }\n",
              "    30% {\n",
              "      border-color: transparent;\n",
              "      border-left-color: var(--fill-color);\n",
              "      border-top-color: var(--fill-color);\n",
              "      border-right-color: var(--fill-color);\n",
              "    }\n",
              "    40% {\n",
              "      border-color: transparent;\n",
              "      border-right-color: var(--fill-color);\n",
              "      border-top-color: var(--fill-color);\n",
              "    }\n",
              "    60% {\n",
              "      border-color: transparent;\n",
              "      border-right-color: var(--fill-color);\n",
              "    }\n",
              "    80% {\n",
              "      border-color: transparent;\n",
              "      border-right-color: var(--fill-color);\n",
              "      border-bottom-color: var(--fill-color);\n",
              "    }\n",
              "    90% {\n",
              "      border-color: transparent;\n",
              "      border-bottom-color: var(--fill-color);\n",
              "    }\n",
              "  }\n",
              "</style>\n",
              "\n",
              "  <script>\n",
              "    async function quickchart(key) {\n",
              "      const quickchartButtonEl =\n",
              "        document.querySelector('#' + key + ' button');\n",
              "      quickchartButtonEl.disabled = true;  // To prevent multiple clicks.\n",
              "      quickchartButtonEl.classList.add('colab-df-spinner');\n",
              "      try {\n",
              "        const charts = await google.colab.kernel.invokeFunction(\n",
              "            'suggestCharts', [key], {});\n",
              "      } catch (error) {\n",
              "        console.error('Error during call to suggestCharts:', error);\n",
              "      }\n",
              "      quickchartButtonEl.classList.remove('colab-df-spinner');\n",
              "      quickchartButtonEl.classList.add('colab-df-quickchart-complete');\n",
              "    }\n",
              "    (() => {\n",
              "      let quickchartButtonEl =\n",
              "        document.querySelector('#df-a48018ff-0ecb-46df-9c5a-3ca5ab9bbe48 button');\n",
              "      quickchartButtonEl.style.display =\n",
              "        google.colab.kernel.accessAllowed ? 'block' : 'none';\n",
              "    })();\n",
              "  </script>\n",
              "</div>\n",
              "    </div>\n",
              "  </div>\n"
            ],
            "application/vnd.google.colaboratory.intrinsic+json": {
              "type": "dataframe",
              "variable_name": "df",
              "summary": "{\n  \"name\": \"df\",\n  \"rows\": 660,\n  \"fields\": [\n    {\n      \"column\": \"Country\",\n      \"properties\": {\n        \"dtype\": \"category\",\n        \"num_unique_values\": 9,\n        \"samples\": [\n          \"Portugal \",\n          \"Italy\",\n          \"France\"\n        ],\n        \"semantic_type\": \"\",\n        \"description\": \"\"\n      }\n    },\n    {\n      \"column\": \"League\",\n      \"properties\": {\n        \"dtype\": \"category\",\n        \"num_unique_values\": 28,\n        \"samples\": [\n          \"France Ligue 9\",\n          \"MLS\",\n          \"France Ligue 12\"\n        ],\n        \"semantic_type\": \"\",\n        \"description\": \"\"\n      }\n    },\n    {\n      \"column\": \"Club\",\n      \"properties\": {\n        \"dtype\": \"category\",\n        \"num_unique_values\": 180,\n        \"samples\": [\n          \"(VER)\",\n          \"(WOB)\",\n          \"(VIT)\"\n        ],\n        \"semantic_type\": \"\",\n        \"description\": \"\"\n      }\n    },\n    {\n      \"column\": \"Player Names\",\n      \"properties\": {\n        \"dtype\": \"string\",\n        \"num_unique_values\": 444,\n        \"samples\": [\n          \"Carlos Sanchez\",\n          \"Roger \",\n          \"Sergio Aguero\"\n        ],\n        \"semantic_type\": \"\",\n        \"description\": \"\"\n      }\n    },\n    {\n      \"column\": \"Matches_Played\",\n      \"properties\": {\n        \"dtype\": \"number\",\n        \"std\": 9,\n        \"min\": 2,\n        \"max\": 38,\n        \"num_unique_values\": 37,\n        \"samples\": [\n          35,\n          14,\n          21\n        ],\n        \"semantic_type\": \"\",\n        \"description\": \"\"\n      }\n    },\n    {\n      \"column\": \"Substitution \",\n      \"properties\": {\n        \"dtype\": \"number\",\n        \"std\": 3,\n        \"min\": 0,\n        \"max\": 26,\n        \"num_unique_values\": 21,\n        \"samples\": [\n          16,\n          13,\n          15\n        ],\n        \"semantic_type\": \"\",\n        \"description\": \"\"\n      }\n    },\n    {\n      \"column\": \"Mins\",\n      \"properties\": {\n        \"dtype\": \"number\",\n        \"std\": 900,\n        \"min\": 264,\n        \"max\": 4177,\n        \"num_unique_values\": 583,\n        \"samples\": [\n          3394,\n          2663,\n          1786\n        ],\n        \"semantic_type\": \"\",\n        \"description\": \"\"\n      }\n    },\n    {\n      \"column\": \"Goals\",\n      \"properties\": {\n        \"dtype\": \"number\",\n        \"std\": 5,\n        \"min\": 2,\n        \"max\": 37,\n        \"num_unique_values\": 33,\n        \"samples\": [\n          34,\n          26,\n          7\n        ],\n        \"semantic_type\": \"\",\n        \"description\": \"\"\n      }\n    },\n    {\n      \"column\": \"xG\",\n      \"properties\": {\n        \"dtype\": \"number\",\n        \"std\": 5.724843670305077,\n        \"min\": 0.71,\n        \"max\": 32.54,\n        \"num_unique_values\": 558,\n        \"samples\": [\n          6.04,\n          3.63,\n          11.57\n        ],\n        \"semantic_type\": \"\",\n        \"description\": \"\"\n      }\n    },\n    {\n      \"column\": \"xG Per Avg Match\",\n      \"properties\": {\n        \"dtype\": \"number\",\n        \"std\": 0.192831318908123,\n        \"min\": 0.07,\n        \"max\": 1.35,\n        \"num_unique_values\": 92,\n        \"samples\": [\n          0.53,\n          0.42,\n          0.21\n        ],\n        \"semantic_type\": \"\",\n        \"description\": \"\"\n      }\n    },\n    {\n      \"column\": \"Shots\",\n      \"properties\": {\n        \"dtype\": \"number\",\n        \"std\": 34,\n        \"min\": 5,\n        \"max\": 208,\n        \"num_unique_values\": 144,\n        \"samples\": [\n          12,\n          43,\n          152\n        ],\n        \"semantic_type\": \"\",\n        \"description\": \"\"\n      }\n    },\n    {\n      \"column\": \"OnTarget\",\n      \"properties\": {\n        \"dtype\": \"number\",\n        \"std\": 16,\n        \"min\": 2,\n        \"max\": 102,\n        \"num_unique_values\": 79,\n        \"samples\": [\n          39,\n          20,\n          35\n        ],\n        \"semantic_type\": \"\",\n        \"description\": \"\"\n      }\n    },\n    {\n      \"column\": \"Shots Per Avg Match\",\n      \"properties\": {\n        \"dtype\": \"number\",\n        \"std\": 0.9149064811604104,\n        \"min\": 0.8,\n        \"max\": 7.2,\n        \"num_unique_values\": 280,\n        \"samples\": [\n          2.81,\n          3.22,\n          3.34\n        ],\n        \"semantic_type\": \"\",\n        \"description\": \"\"\n      }\n    },\n    {\n      \"column\": \"On Target Per Avg Match\",\n      \"properties\": {\n        \"dtype\": \"number\",\n        \"std\": 0.4742392995897686,\n        \"min\": 0.24,\n        \"max\": 3.63,\n        \"num_unique_values\": 184,\n        \"samples\": [\n          0.84,\n          2.15,\n          1.04\n        ],\n        \"semantic_type\": \"\",\n        \"description\": \"\"\n      }\n    },\n    {\n      \"column\": \"Year\",\n      \"properties\": {\n        \"dtype\": \"number\",\n        \"std\": 1,\n        \"min\": 2016,\n        \"max\": 2020,\n        \"num_unique_values\": 5,\n        \"samples\": [\n          2017,\n          2020,\n          2018\n        ],\n        \"semantic_type\": \"\",\n        \"description\": \"\"\n      }\n    }\n  ]\n}"
            }
          },
          "metadata": {},
          "execution_count": 2
        }
      ]
    },
    {
      "cell_type": "markdown",
      "source": [
        "##**Describe Data**"
      ],
      "metadata": {
        "id": "j2e5k2oWfffJ"
      }
    },
    {
      "cell_type": "markdown",
      "source": [
        "####Informasi Dasar"
      ],
      "metadata": {
        "id": "L9sDNUmEi4as"
      }
    },
    {
      "cell_type": "code",
      "source": [
        "jumlah_baris,jumlah_kolom = df.shape\n",
        "print(f\"Jumlah Baris: {jumlah_baris}\")\n",
        "print(f\"Jumlah Kolom: {jumlah_kolom}\")"
      ],
      "metadata": {
        "colab": {
          "base_uri": "https://localhost:8080/"
        },
        "id": "VDtsN8-SfgwH",
        "outputId": "1455bf39-f030-4350-814e-62b6251b88f4"
      },
      "execution_count": 3,
      "outputs": [
        {
          "output_type": "stream",
          "name": "stdout",
          "text": [
            "Jumlah Baris: 660\n",
            "Jumlah Kolom: 15\n"
          ]
        }
      ]
    },
    {
      "cell_type": "markdown",
      "source": [
        "Jadi di ketehui bahwa baris dari kolom tersebut ada 660 baris dan 15 kolom"
      ],
      "metadata": {
        "id": "FJ4IwpVpfvD-"
      }
    },
    {
      "cell_type": "markdown",
      "source": [
        "berikut penjelasan berdasarkan informasi yang diberikan diatas:\n",
        "1. Country Dtype **Oject**\n",
        "2. League Dtype **Oject**\n",
        "3. Player Names Dtype **Oject**\n",
        "4. Matches_Played  Dtype **int64**\n",
        "5. Substitution   Dtype **int64**             \n",
        "6. Mins    Dtype **int64**                    \n",
        "7. Goals     Dtype **int64**                  \n",
        "8. xG     Dtype **float64**                    \n",
        "9. xG Per Avg Match  Dtype **float64**   \n",
        "10. Shots  Dtype **int64**                   \n",
        "11. OnTarget Dtype **int64**                   \n",
        "12. Shots Per Avg Match   Dtype **float64**      \n",
        "13. On Target Per Avg Match  Dtype **float64**   \n",
        "14. Year  Dtype **int64**                    "
      ],
      "metadata": {
        "id": "LxMvAja5gUHi"
      }
    },
    {
      "cell_type": "markdown",
      "source": [
        "####Informasi Lanjutan"
      ],
      "metadata": {
        "id": "hMJt80ePi9Rv"
      }
    },
    {
      "cell_type": "code",
      "source": [
        "df.info()"
      ],
      "metadata": {
        "colab": {
          "base_uri": "https://localhost:8080/"
        },
        "id": "veZnILCJgBka",
        "outputId": "ce582371-c845-4a19-a820-f70fee95bbd6"
      },
      "execution_count": 4,
      "outputs": [
        {
          "output_type": "stream",
          "name": "stdout",
          "text": [
            "<class 'pandas.core.frame.DataFrame'>\n",
            "RangeIndex: 660 entries, 0 to 659\n",
            "Data columns (total 15 columns):\n",
            " #   Column                   Non-Null Count  Dtype  \n",
            "---  ------                   --------------  -----  \n",
            " 0   Country                  660 non-null    object \n",
            " 1   League                   660 non-null    object \n",
            " 2   Club                     660 non-null    object \n",
            " 3   Player Names             660 non-null    object \n",
            " 4   Matches_Played           660 non-null    int64  \n",
            " 5   Substitution             660 non-null    int64  \n",
            " 6   Mins                     660 non-null    int64  \n",
            " 7   Goals                    660 non-null    int64  \n",
            " 8   xG                       660 non-null    float64\n",
            " 9   xG Per Avg Match         660 non-null    float64\n",
            " 10  Shots                    660 non-null    int64  \n",
            " 11  OnTarget                 660 non-null    int64  \n",
            " 12  Shots Per Avg Match      660 non-null    float64\n",
            " 13  On Target Per Avg Match  660 non-null    float64\n",
            " 14  Year                     660 non-null    int64  \n",
            "dtypes: float64(4), int64(7), object(4)\n",
            "memory usage: 77.5+ KB\n"
          ]
        }
      ]
    },
    {
      "cell_type": "markdown",
      "source": [
        "####Informasi Statistik Deskriptif"
      ],
      "metadata": {
        "id": "VnoQvUzPjJe4"
      }
    },
    {
      "cell_type": "code",
      "source": [
        "df.describe()"
      ],
      "metadata": {
        "colab": {
          "base_uri": "https://localhost:8080/",
          "height": 318
        },
        "id": "kmPb6tuMjXaw",
        "outputId": "69ec6301-c922-41fb-d242-984331017b1e"
      },
      "execution_count": 5,
      "outputs": [
        {
          "output_type": "execute_result",
          "data": {
            "text/plain": [
              "       Matches_Played  Substitution          Mins       Goals          xG  \\\n",
              "count      660.000000     660.000000   660.000000  660.000000  660.000000   \n",
              "mean        22.371212       3.224242  2071.416667   11.784848   10.089606   \n",
              "std          9.754658       3.839498   900.595049    5.982454    5.724844   \n",
              "min          2.000000       0.000000   264.000000    2.000000    0.710000   \n",
              "25%         14.000000       0.000000  1363.500000    8.000000    6.100000   \n",
              "50%         24.000000       2.000000  2245.500000   11.000000    9.285000   \n",
              "75%         31.000000       5.000000  2822.000000   14.000000   13.252500   \n",
              "max         38.000000      26.000000  4177.000000   37.000000   32.540000   \n",
              "\n",
              "       xG Per Avg Match       Shots    OnTarget  Shots Per Avg Match  \\\n",
              "count        660.000000  660.000000  660.000000           660.000000   \n",
              "mean           0.476167   64.177273   28.365152             2.948015   \n",
              "std            0.192831   34.941622   16.363149             0.914906   \n",
              "min            0.070000    5.000000    2.000000             0.800000   \n",
              "25%            0.340000   37.750000   17.000000             2.335000   \n",
              "50%            0.435000   62.000000   26.000000             2.845000   \n",
              "75%            0.570000   86.000000   37.000000             3.382500   \n",
              "max            1.350000  208.000000  102.000000             7.200000   \n",
              "\n",
              "       On Target Per Avg Match         Year  \n",
              "count               660.000000   660.000000  \n",
              "mean                  1.315652  2018.363636  \n",
              "std                   0.474239     1.367700  \n",
              "min                   0.240000  2016.000000  \n",
              "25%                   0.980000  2017.000000  \n",
              "50%                   1.250000  2019.000000  \n",
              "75%                   1.540000  2019.000000  \n",
              "max                   3.630000  2020.000000  "
            ],
            "text/html": [
              "\n",
              "  <div id=\"df-f5627991-35bf-4a8f-a4a2-3d30fbb6d106\" class=\"colab-df-container\">\n",
              "    <div>\n",
              "<style scoped>\n",
              "    .dataframe tbody tr th:only-of-type {\n",
              "        vertical-align: middle;\n",
              "    }\n",
              "\n",
              "    .dataframe tbody tr th {\n",
              "        vertical-align: top;\n",
              "    }\n",
              "\n",
              "    .dataframe thead th {\n",
              "        text-align: right;\n",
              "    }\n",
              "</style>\n",
              "<table border=\"1\" class=\"dataframe\">\n",
              "  <thead>\n",
              "    <tr style=\"text-align: right;\">\n",
              "      <th></th>\n",
              "      <th>Matches_Played</th>\n",
              "      <th>Substitution</th>\n",
              "      <th>Mins</th>\n",
              "      <th>Goals</th>\n",
              "      <th>xG</th>\n",
              "      <th>xG Per Avg Match</th>\n",
              "      <th>Shots</th>\n",
              "      <th>OnTarget</th>\n",
              "      <th>Shots Per Avg Match</th>\n",
              "      <th>On Target Per Avg Match</th>\n",
              "      <th>Year</th>\n",
              "    </tr>\n",
              "  </thead>\n",
              "  <tbody>\n",
              "    <tr>\n",
              "      <th>count</th>\n",
              "      <td>660.000000</td>\n",
              "      <td>660.000000</td>\n",
              "      <td>660.000000</td>\n",
              "      <td>660.000000</td>\n",
              "      <td>660.000000</td>\n",
              "      <td>660.000000</td>\n",
              "      <td>660.000000</td>\n",
              "      <td>660.000000</td>\n",
              "      <td>660.000000</td>\n",
              "      <td>660.000000</td>\n",
              "      <td>660.000000</td>\n",
              "    </tr>\n",
              "    <tr>\n",
              "      <th>mean</th>\n",
              "      <td>22.371212</td>\n",
              "      <td>3.224242</td>\n",
              "      <td>2071.416667</td>\n",
              "      <td>11.784848</td>\n",
              "      <td>10.089606</td>\n",
              "      <td>0.476167</td>\n",
              "      <td>64.177273</td>\n",
              "      <td>28.365152</td>\n",
              "      <td>2.948015</td>\n",
              "      <td>1.315652</td>\n",
              "      <td>2018.363636</td>\n",
              "    </tr>\n",
              "    <tr>\n",
              "      <th>std</th>\n",
              "      <td>9.754658</td>\n",
              "      <td>3.839498</td>\n",
              "      <td>900.595049</td>\n",
              "      <td>5.982454</td>\n",
              "      <td>5.724844</td>\n",
              "      <td>0.192831</td>\n",
              "      <td>34.941622</td>\n",
              "      <td>16.363149</td>\n",
              "      <td>0.914906</td>\n",
              "      <td>0.474239</td>\n",
              "      <td>1.367700</td>\n",
              "    </tr>\n",
              "    <tr>\n",
              "      <th>min</th>\n",
              "      <td>2.000000</td>\n",
              "      <td>0.000000</td>\n",
              "      <td>264.000000</td>\n",
              "      <td>2.000000</td>\n",
              "      <td>0.710000</td>\n",
              "      <td>0.070000</td>\n",
              "      <td>5.000000</td>\n",
              "      <td>2.000000</td>\n",
              "      <td>0.800000</td>\n",
              "      <td>0.240000</td>\n",
              "      <td>2016.000000</td>\n",
              "    </tr>\n",
              "    <tr>\n",
              "      <th>25%</th>\n",
              "      <td>14.000000</td>\n",
              "      <td>0.000000</td>\n",
              "      <td>1363.500000</td>\n",
              "      <td>8.000000</td>\n",
              "      <td>6.100000</td>\n",
              "      <td>0.340000</td>\n",
              "      <td>37.750000</td>\n",
              "      <td>17.000000</td>\n",
              "      <td>2.335000</td>\n",
              "      <td>0.980000</td>\n",
              "      <td>2017.000000</td>\n",
              "    </tr>\n",
              "    <tr>\n",
              "      <th>50%</th>\n",
              "      <td>24.000000</td>\n",
              "      <td>2.000000</td>\n",
              "      <td>2245.500000</td>\n",
              "      <td>11.000000</td>\n",
              "      <td>9.285000</td>\n",
              "      <td>0.435000</td>\n",
              "      <td>62.000000</td>\n",
              "      <td>26.000000</td>\n",
              "      <td>2.845000</td>\n",
              "      <td>1.250000</td>\n",
              "      <td>2019.000000</td>\n",
              "    </tr>\n",
              "    <tr>\n",
              "      <th>75%</th>\n",
              "      <td>31.000000</td>\n",
              "      <td>5.000000</td>\n",
              "      <td>2822.000000</td>\n",
              "      <td>14.000000</td>\n",
              "      <td>13.252500</td>\n",
              "      <td>0.570000</td>\n",
              "      <td>86.000000</td>\n",
              "      <td>37.000000</td>\n",
              "      <td>3.382500</td>\n",
              "      <td>1.540000</td>\n",
              "      <td>2019.000000</td>\n",
              "    </tr>\n",
              "    <tr>\n",
              "      <th>max</th>\n",
              "      <td>38.000000</td>\n",
              "      <td>26.000000</td>\n",
              "      <td>4177.000000</td>\n",
              "      <td>37.000000</td>\n",
              "      <td>32.540000</td>\n",
              "      <td>1.350000</td>\n",
              "      <td>208.000000</td>\n",
              "      <td>102.000000</td>\n",
              "      <td>7.200000</td>\n",
              "      <td>3.630000</td>\n",
              "      <td>2020.000000</td>\n",
              "    </tr>\n",
              "  </tbody>\n",
              "</table>\n",
              "</div>\n",
              "    <div class=\"colab-df-buttons\">\n",
              "\n",
              "  <div class=\"colab-df-container\">\n",
              "    <button class=\"colab-df-convert\" onclick=\"convertToInteractive('df-f5627991-35bf-4a8f-a4a2-3d30fbb6d106')\"\n",
              "            title=\"Convert this dataframe to an interactive table.\"\n",
              "            style=\"display:none;\">\n",
              "\n",
              "  <svg xmlns=\"http://www.w3.org/2000/svg\" height=\"24px\" viewBox=\"0 -960 960 960\">\n",
              "    <path d=\"M120-120v-720h720v720H120Zm60-500h600v-160H180v160Zm220 220h160v-160H400v160Zm0 220h160v-160H400v160ZM180-400h160v-160H180v160Zm440 0h160v-160H620v160ZM180-180h160v-160H180v160Zm440 0h160v-160H620v160Z\"/>\n",
              "  </svg>\n",
              "    </button>\n",
              "\n",
              "  <style>\n",
              "    .colab-df-container {\n",
              "      display:flex;\n",
              "      gap: 12px;\n",
              "    }\n",
              "\n",
              "    .colab-df-convert {\n",
              "      background-color: #E8F0FE;\n",
              "      border: none;\n",
              "      border-radius: 50%;\n",
              "      cursor: pointer;\n",
              "      display: none;\n",
              "      fill: #1967D2;\n",
              "      height: 32px;\n",
              "      padding: 0 0 0 0;\n",
              "      width: 32px;\n",
              "    }\n",
              "\n",
              "    .colab-df-convert:hover {\n",
              "      background-color: #E2EBFA;\n",
              "      box-shadow: 0px 1px 2px rgba(60, 64, 67, 0.3), 0px 1px 3px 1px rgba(60, 64, 67, 0.15);\n",
              "      fill: #174EA6;\n",
              "    }\n",
              "\n",
              "    .colab-df-buttons div {\n",
              "      margin-bottom: 4px;\n",
              "    }\n",
              "\n",
              "    [theme=dark] .colab-df-convert {\n",
              "      background-color: #3B4455;\n",
              "      fill: #D2E3FC;\n",
              "    }\n",
              "\n",
              "    [theme=dark] .colab-df-convert:hover {\n",
              "      background-color: #434B5C;\n",
              "      box-shadow: 0px 1px 3px 1px rgba(0, 0, 0, 0.15);\n",
              "      filter: drop-shadow(0px 1px 2px rgba(0, 0, 0, 0.3));\n",
              "      fill: #FFFFFF;\n",
              "    }\n",
              "  </style>\n",
              "\n",
              "    <script>\n",
              "      const buttonEl =\n",
              "        document.querySelector('#df-f5627991-35bf-4a8f-a4a2-3d30fbb6d106 button.colab-df-convert');\n",
              "      buttonEl.style.display =\n",
              "        google.colab.kernel.accessAllowed ? 'block' : 'none';\n",
              "\n",
              "      async function convertToInteractive(key) {\n",
              "        const element = document.querySelector('#df-f5627991-35bf-4a8f-a4a2-3d30fbb6d106');\n",
              "        const dataTable =\n",
              "          await google.colab.kernel.invokeFunction('convertToInteractive',\n",
              "                                                    [key], {});\n",
              "        if (!dataTable) return;\n",
              "\n",
              "        const docLinkHtml = 'Like what you see? Visit the ' +\n",
              "          '<a target=\"_blank\" href=https://colab.research.google.com/notebooks/data_table.ipynb>data table notebook</a>'\n",
              "          + ' to learn more about interactive tables.';\n",
              "        element.innerHTML = '';\n",
              "        dataTable['output_type'] = 'display_data';\n",
              "        await google.colab.output.renderOutput(dataTable, element);\n",
              "        const docLink = document.createElement('div');\n",
              "        docLink.innerHTML = docLinkHtml;\n",
              "        element.appendChild(docLink);\n",
              "      }\n",
              "    </script>\n",
              "  </div>\n",
              "\n",
              "\n",
              "<div id=\"df-59efcd09-6c67-4a7e-bc65-aa6144ad7b52\">\n",
              "  <button class=\"colab-df-quickchart\" onclick=\"quickchart('df-59efcd09-6c67-4a7e-bc65-aa6144ad7b52')\"\n",
              "            title=\"Suggest charts\"\n",
              "            style=\"display:none;\">\n",
              "\n",
              "<svg xmlns=\"http://www.w3.org/2000/svg\" height=\"24px\"viewBox=\"0 0 24 24\"\n",
              "     width=\"24px\">\n",
              "    <g>\n",
              "        <path d=\"M19 3H5c-1.1 0-2 .9-2 2v14c0 1.1.9 2 2 2h14c1.1 0 2-.9 2-2V5c0-1.1-.9-2-2-2zM9 17H7v-7h2v7zm4 0h-2V7h2v10zm4 0h-2v-4h2v4z\"/>\n",
              "    </g>\n",
              "</svg>\n",
              "  </button>\n",
              "\n",
              "<style>\n",
              "  .colab-df-quickchart {\n",
              "      --bg-color: #E8F0FE;\n",
              "      --fill-color: #1967D2;\n",
              "      --hover-bg-color: #E2EBFA;\n",
              "      --hover-fill-color: #174EA6;\n",
              "      --disabled-fill-color: #AAA;\n",
              "      --disabled-bg-color: #DDD;\n",
              "  }\n",
              "\n",
              "  [theme=dark] .colab-df-quickchart {\n",
              "      --bg-color: #3B4455;\n",
              "      --fill-color: #D2E3FC;\n",
              "      --hover-bg-color: #434B5C;\n",
              "      --hover-fill-color: #FFFFFF;\n",
              "      --disabled-bg-color: #3B4455;\n",
              "      --disabled-fill-color: #666;\n",
              "  }\n",
              "\n",
              "  .colab-df-quickchart {\n",
              "    background-color: var(--bg-color);\n",
              "    border: none;\n",
              "    border-radius: 50%;\n",
              "    cursor: pointer;\n",
              "    display: none;\n",
              "    fill: var(--fill-color);\n",
              "    height: 32px;\n",
              "    padding: 0;\n",
              "    width: 32px;\n",
              "  }\n",
              "\n",
              "  .colab-df-quickchart:hover {\n",
              "    background-color: var(--hover-bg-color);\n",
              "    box-shadow: 0 1px 2px rgba(60, 64, 67, 0.3), 0 1px 3px 1px rgba(60, 64, 67, 0.15);\n",
              "    fill: var(--button-hover-fill-color);\n",
              "  }\n",
              "\n",
              "  .colab-df-quickchart-complete:disabled,\n",
              "  .colab-df-quickchart-complete:disabled:hover {\n",
              "    background-color: var(--disabled-bg-color);\n",
              "    fill: var(--disabled-fill-color);\n",
              "    box-shadow: none;\n",
              "  }\n",
              "\n",
              "  .colab-df-spinner {\n",
              "    border: 2px solid var(--fill-color);\n",
              "    border-color: transparent;\n",
              "    border-bottom-color: var(--fill-color);\n",
              "    animation:\n",
              "      spin 1s steps(1) infinite;\n",
              "  }\n",
              "\n",
              "  @keyframes spin {\n",
              "    0% {\n",
              "      border-color: transparent;\n",
              "      border-bottom-color: var(--fill-color);\n",
              "      border-left-color: var(--fill-color);\n",
              "    }\n",
              "    20% {\n",
              "      border-color: transparent;\n",
              "      border-left-color: var(--fill-color);\n",
              "      border-top-color: var(--fill-color);\n",
              "    }\n",
              "    30% {\n",
              "      border-color: transparent;\n",
              "      border-left-color: var(--fill-color);\n",
              "      border-top-color: var(--fill-color);\n",
              "      border-right-color: var(--fill-color);\n",
              "    }\n",
              "    40% {\n",
              "      border-color: transparent;\n",
              "      border-right-color: var(--fill-color);\n",
              "      border-top-color: var(--fill-color);\n",
              "    }\n",
              "    60% {\n",
              "      border-color: transparent;\n",
              "      border-right-color: var(--fill-color);\n",
              "    }\n",
              "    80% {\n",
              "      border-color: transparent;\n",
              "      border-right-color: var(--fill-color);\n",
              "      border-bottom-color: var(--fill-color);\n",
              "    }\n",
              "    90% {\n",
              "      border-color: transparent;\n",
              "      border-bottom-color: var(--fill-color);\n",
              "    }\n",
              "  }\n",
              "</style>\n",
              "\n",
              "  <script>\n",
              "    async function quickchart(key) {\n",
              "      const quickchartButtonEl =\n",
              "        document.querySelector('#' + key + ' button');\n",
              "      quickchartButtonEl.disabled = true;  // To prevent multiple clicks.\n",
              "      quickchartButtonEl.classList.add('colab-df-spinner');\n",
              "      try {\n",
              "        const charts = await google.colab.kernel.invokeFunction(\n",
              "            'suggestCharts', [key], {});\n",
              "      } catch (error) {\n",
              "        console.error('Error during call to suggestCharts:', error);\n",
              "      }\n",
              "      quickchartButtonEl.classList.remove('colab-df-spinner');\n",
              "      quickchartButtonEl.classList.add('colab-df-quickchart-complete');\n",
              "    }\n",
              "    (() => {\n",
              "      let quickchartButtonEl =\n",
              "        document.querySelector('#df-59efcd09-6c67-4a7e-bc65-aa6144ad7b52 button');\n",
              "      quickchartButtonEl.style.display =\n",
              "        google.colab.kernel.accessAllowed ? 'block' : 'none';\n",
              "    })();\n",
              "  </script>\n",
              "</div>\n",
              "    </div>\n",
              "  </div>\n"
            ],
            "application/vnd.google.colaboratory.intrinsic+json": {
              "type": "dataframe",
              "summary": "{\n  \"name\": \"df\",\n  \"rows\": 8,\n  \"fields\": [\n    {\n      \"column\": \"Matches_Played\",\n      \"properties\": {\n        \"dtype\": \"number\",\n        \"std\": 226.51120820651656,\n        \"min\": 2.0,\n        \"max\": 660.0,\n        \"num_unique_values\": 8,\n        \"samples\": [\n          22.37121212121212,\n          24.0,\n          660.0\n        ],\n        \"semantic_type\": \"\",\n        \"description\": \"\"\n      }\n    },\n    {\n      \"column\": \"Substitution \",\n      \"properties\": {\n        \"dtype\": \"number\",\n        \"std\": 231.47631237281524,\n        \"min\": 0.0,\n        \"max\": 660.0,\n        \"num_unique_values\": 7,\n        \"samples\": [\n          660.0,\n          3.224242424242424,\n          5.0\n        ],\n        \"semantic_type\": \"\",\n        \"description\": \"\"\n      }\n    },\n    {\n      \"column\": \"Mins\",\n      \"properties\": {\n        \"dtype\": \"number\",\n        \"std\": 1288.618056472964,\n        \"min\": 264.0,\n        \"max\": 4177.0,\n        \"num_unique_values\": 8,\n        \"samples\": [\n          2071.4166666666665,\n          2245.5,\n          660.0\n        ],\n        \"semantic_type\": \"\",\n        \"description\": \"\"\n      }\n    },\n    {\n      \"column\": \"Goals\",\n      \"properties\": {\n        \"dtype\": \"number\",\n        \"std\": 229.05389148758036,\n        \"min\": 2.0,\n        \"max\": 660.0,\n        \"num_unique_values\": 8,\n        \"samples\": [\n          11.784848484848485,\n          11.0,\n          660.0\n        ],\n        \"semantic_type\": \"\",\n        \"description\": \"\"\n      }\n    },\n    {\n      \"column\": \"xG\",\n      \"properties\": {\n        \"dtype\": \"number\",\n        \"std\": 229.61690419266336,\n        \"min\": 0.71,\n        \"max\": 660.0,\n        \"num_unique_values\": 8,\n        \"samples\": [\n          10.08960606060606,\n          9.285,\n          660.0\n        ],\n        \"semantic_type\": \"\",\n        \"description\": \"\"\n      }\n    },\n    {\n      \"column\": \"xG Per Avg Match\",\n      \"properties\": {\n        \"dtype\": \"number\",\n        \"std\": 233.17211219343093,\n        \"min\": 0.07,\n        \"max\": 660.0,\n        \"num_unique_values\": 8,\n        \"samples\": [\n          0.4761666666666666,\n          0.435,\n          660.0\n        ],\n        \"semantic_type\": \"\",\n        \"description\": \"\"\n      }\n    },\n    {\n      \"column\": \"Shots\",\n      \"properties\": {\n        \"dtype\": \"number\",\n        \"std\": 216.89732747366332,\n        \"min\": 5.0,\n        \"max\": 660.0,\n        \"num_unique_values\": 8,\n        \"samples\": [\n          64.17727272727272,\n          62.0,\n          660.0\n        ],\n        \"semantic_type\": \"\",\n        \"description\": \"\"\n      }\n    },\n    {\n      \"column\": \"OnTarget\",\n      \"properties\": {\n        \"dtype\": \"number\",\n        \"std\": 223.82537370588113,\n        \"min\": 2.0,\n        \"max\": 660.0,\n        \"num_unique_values\": 8,\n        \"samples\": [\n          28.365151515151513,\n          26.0,\n          660.0\n        ],\n        \"semantic_type\": \"\",\n        \"description\": \"\"\n      }\n    },\n    {\n      \"column\": \"Shots Per Avg Match\",\n      \"properties\": {\n        \"dtype\": \"number\",\n        \"std\": 232.32202131123097,\n        \"min\": 0.8,\n        \"max\": 660.0,\n        \"num_unique_values\": 8,\n        \"samples\": [\n          2.948015151515152,\n          2.8449999999999998,\n          660.0\n        ],\n        \"semantic_type\": \"\",\n        \"description\": \"\"\n      }\n    },\n    {\n      \"column\": \"On Target Per Avg Match\",\n      \"properties\": {\n        \"dtype\": \"number\",\n        \"std\": 232.87122054360952,\n        \"min\": 0.24,\n        \"max\": 660.0,\n        \"num_unique_values\": 8,\n        \"samples\": [\n          1.3156515151515151,\n          1.25,\n          660.0\n        ],\n        \"semantic_type\": \"\",\n        \"description\": \"\"\n      }\n    },\n    {\n      \"column\": \"Year\",\n      \"properties\": {\n        \"dtype\": \"number\",\n        \"std\": 800.7686737061302,\n        \"min\": 1.3676998361377686,\n        \"max\": 2020.0,\n        \"num_unique_values\": 7,\n        \"samples\": [\n          660.0,\n          2018.3636363636363,\n          2019.0\n        ],\n        \"semantic_type\": \"\",\n        \"description\": \"\"\n      }\n    }\n  ]\n}"
            }
          },
          "metadata": {},
          "execution_count": 5
        }
      ]
    },
    {
      "cell_type": "markdown",
      "source": [],
      "metadata": {
        "id": "2ZGHHd_zjZxD"
      }
    },
    {
      "cell_type": "markdown",
      "source": [
        "##**Exploratory Data Analysis**"
      ],
      "metadata": {
        "id": "3-CNRaaRk7-l"
      }
    },
    {
      "cell_type": "code",
      "source": [
        "df['League'] = df['League'].replace('Campeonato Brasileiro SÃ©rie A', 'Serie A')\n",
        ""
      ],
      "metadata": {
        "id": "AtSjTDSpk_b-"
      },
      "execution_count": 18,
      "outputs": []
    },
    {
      "cell_type": "code",
      "source": [
        "fig = plt.figure(figsize = (12, 6))\n",
        "matches_league = df.groupby('League')['Matches_Played'].sum().sort_values(ascending=False)\n",
        "\n",
        "label2 = list(matches_league.index.values)[:5]\n",
        "\n",
        "f, ax = plt.subplots()\n",
        "ax.bar(label2,matches_league[:5],color='red')\n",
        "ax.set(xlabel='League',\n",
        "     ylabel='Matches played')\n",
        "plt.title('League/Matches Chart')\n",
        "# plt.bar(label2, matches_league[:5], color ='maroon',\n",
        "#         width = 0.2)\n",
        "\n",
        "plt.xlabel(\"League\", )\n",
        "plt.ylabel(\"Matches played\")\n",
        "plt.title(\"Matches/League Chart\")\n",
        "plt.show()"
      ],
      "metadata": {
        "colab": {
          "base_uri": "https://localhost:8080/",
          "height": 489
        },
        "id": "qR4A1i8PnA8M",
        "outputId": "e00166ac-3587-4ed6-b4fd-93d261a729ba"
      },
      "execution_count": 19,
      "outputs": [
        {
          "output_type": "display_data",
          "data": {
            "text/plain": [
              "<Figure size 1200x600 with 0 Axes>"
            ]
          },
          "metadata": {}
        },
        {
          "output_type": "display_data",
          "data": {
            "text/plain": [
              "<Figure size 640x480 with 1 Axes>"
            ],
            "image/png": "[encoded data removed]"
          },
          "metadata": {}
        }
      ]
    },
    {
      "cell_type": "markdown",
      "source": [
        "Berdasarkan penjelasan Visualias diatas Serie A memperoleh match played paling banyak dan di susul la liga, Bundesliga, Premier League, MLs"
      ],
      "metadata": {
        "id": "LTCoXSJCpxGS"
      }
    },
    {
      "cell_type": "markdown",
      "source": [
        "##**Verify Data Quality**"
      ],
      "metadata": {
        "id": "0-A-6LV5ot7t"
      }
    },
    {
      "cell_type": "markdown",
      "source": [
        "####Missing Values"
      ],
      "metadata": {
        "id": "wHO89aLaoxQz"
      }
    },
    {
      "cell_type": "code",
      "source": [
        "missing_values = df.isnull().sum()\n",
        "\n",
        "print(missing_values)"
      ],
      "metadata": {
        "colab": {
          "base_uri": "https://localhost:8080/"
        },
        "id": "LLDefCFyo09e",
        "outputId": "632dbe7e-3ab1-42d9-b58d-75efd7c674fe"
      },
      "execution_count": 20,
      "outputs": [
        {
          "output_type": "stream",
          "name": "stdout",
          "text": [
            "Country                    0\n",
            "League                     0\n",
            "Club                       0\n",
            "Player Names               0\n",
            "Matches_Played             0\n",
            "Substitution               0\n",
            "Mins                       0\n",
            "Goals                      0\n",
            "xG                         0\n",
            "xG Per Avg Match           0\n",
            "Shots                      0\n",
            "OnTarget                   0\n",
            "Shots Per Avg Match        0\n",
            "On Target Per Avg Match    0\n",
            "Year                       0\n",
            "dtype: int64\n"
          ]
        }
      ]
    },
    {
      "cell_type": "markdown",
      "source": [
        "####Outliers Values"
      ],
      "metadata": {
        "id": "Eom4O7dko8PB"
      }
    },
    {
      "cell_type": "code",
      "source": [
        "def detect_outliers(column):\n",
        "    # Cek apakah kolom memiliki tipe data numerik\n",
        "    if pd.api.types.is_numeric_dtype(column):\n",
        "        Q1 = column.quantile(0.25)\n",
        "        Q3 = column.quantile(0.75)\n",
        "        IQR = Q3 - Q1\n",
        "\n",
        "        outliers = (column < (Q1 - 1.5 * IQR)) | (column > (Q3 + 1.5 * IQR))\n",
        "\n",
        "        percentage_outliers = outliers.sum() / len(column) * 100\n",
        "\n",
        "        return outliers, percentage_outliers\n",
        "    else:\n",
        "        return None, None\n",
        "\n",
        "for column in df.columns:\n",
        "    outliers, percentage_outliers = detect_outliers(df[column])\n",
        "\n",
        "    if outliers is not None and percentage_outliers is not None:\n",
        "        print(f\"Kolom '{column}':\")\n",
        "        print(f\"  - Jumlah outliers: {outliers.sum()}\")\n",
        "        print(f\"  - Persentase kehadiran outliers: {percentage_outliers:.2f}%\")\n",
        "        print()\n",
        "    else:\n",
        "        print(f\"Kolom '{column}' tidak berisi data numerik.\")"
      ],
      "metadata": {
        "colab": {
          "base_uri": "https://localhost:8080/"
        },
        "id": "Vfrzr17vpBC3",
        "outputId": "6c916b7f-400d-4a1b-8372-e332d68766cb"
      },
      "execution_count": 21,
      "outputs": [
        {
          "output_type": "stream",
          "name": "stdout",
          "text": [
            "Kolom 'Country' tidak berisi data numerik.\n",
            "Kolom 'League' tidak berisi data numerik.\n",
            "Kolom 'Club' tidak berisi data numerik.\n",
            "Kolom 'Player Names' tidak berisi data numerik.\n",
            "Kolom 'Matches_Played':\n",
            "  - Jumlah outliers: 0\n",
            "  - Persentase kehadiran outliers: 0.00%\n",
            "\n",
            "Kolom 'Substitution ':\n",
            "  - Jumlah outliers: 20\n",
            "  - Persentase kehadiran outliers: 3.03%\n",
            "\n",
            "Kolom 'Mins':\n",
            "  - Jumlah outliers: 0\n",
            "  - Persentase kehadiran outliers: 0.00%\n",
            "\n",
            "Kolom 'Goals':\n",
            "  - Jumlah outliers: 32\n",
            "  - Persentase kehadiran outliers: 4.85%\n",
            "\n",
            "Kolom 'xG':\n",
            "  - Jumlah outliers: 19\n",
            "  - Persentase kehadiran outliers: 2.88%\n",
            "\n",
            "Kolom 'xG Per Avg Match':\n",
            "  - Jumlah outliers: 22\n",
            "  - Persentase kehadiran outliers: 3.33%\n",
            "\n",
            "Kolom 'Shots':\n",
            "  - Jumlah outliers: 11\n",
            "  - Persentase kehadiran outliers: 1.67%\n",
            "\n",
            "Kolom 'OnTarget':\n",
            "  - Jumlah outliers: 20\n",
            "  - Persentase kehadiran outliers: 3.03%\n",
            "\n",
            "Kolom 'Shots Per Avg Match':\n",
            "  - Jumlah outliers: 22\n",
            "  - Persentase kehadiran outliers: 3.33%\n",
            "\n",
            "Kolom 'On Target Per Avg Match':\n",
            "  - Jumlah outliers: 24\n",
            "  - Persentase kehadiran outliers: 3.64%\n",
            "\n",
            "Kolom 'Year':\n",
            "  - Jumlah outliers: 0\n",
            "  - Persentase kehadiran outliers: 0.00%\n",
            "\n"
          ]
        }
      ]
    },
    {
      "cell_type": "markdown",
      "source": [
        "####Duplicated Values"
      ],
      "metadata": {
        "id": "fI3FlWM9pImh"
      }
    },
    {
      "cell_type": "code",
      "source": [
        "duplicate_values = df.duplicated()\n",
        "\n",
        "print(\"Apakah Ada Nilai Duplikat pada Tiap Kolom:\")\n",
        "print(duplicate_values)"
      ],
      "metadata": {
        "colab": {
          "base_uri": "https://localhost:8080/"
        },
        "id": "6AjgUzVapShB",
        "outputId": "3de13f59-0f42-48e8-f38f-14d492acaff1"
      },
      "execution_count": 22,
      "outputs": [
        {
          "output_type": "stream",
          "name": "stdout",
          "text": [
            "Apakah Ada Nilai Duplikat pada Tiap Kolom:\n",
            "0      False\n",
            "1      False\n",
            "2      False\n",
            "3      False\n",
            "4      False\n",
            "       ...  \n",
            "655    False\n",
            "656    False\n",
            "657    False\n",
            "658    False\n",
            "659    False\n",
            "Length: 660, dtype: bool\n"
          ]
        }
      ]
    },
    {
      "cell_type": "markdown",
      "source": [
        "####Inconsistent Values / Noise (Optional)"
      ],
      "metadata": {
        "id": "4EI280jspXrY"
      }
    },
    {
      "cell_type": "code",
      "source": [
        "for column in df.columns:\n",
        "    inconsistent_values = []\n",
        "    for value in df[column]:\n",
        "        if not pd.api.types.is_numeric_dtype(df[column].dtype):\n",
        "            if not pd.api.types.is_string_dtype(df[column].dtype):\n",
        "                inconsistent_values.append(value)\n",
        "        else:\n",
        "            if pd.isna(value):\n",
        "                inconsistent_values.append(value)\n",
        "    num_inconsistent = len(inconsistent_values)\n",
        "\n",
        "    print(f\"Kolom '{column}':\")\n",
        "    if num_inconsistent > 0:\n",
        "        print(f\"  - Terdapat {num_inconsistent} nilai inkonsisten/noise: {inconsistent_values}\")\n",
        "    else:\n",
        "        print(\"  - Tidak ada nilai inkonsisten/noise.\")"
      ],
      "metadata": {
        "colab": {
          "base_uri": "https://localhost:8080/"
        },
        "id": "NB8izR08pcgt",
        "outputId": "7e6896d5-0901-43ff-d138-4b7c640fdb75"
      },
      "execution_count": 23,
      "outputs": [
        {
          "output_type": "stream",
          "name": "stdout",
          "text": [
            "Kolom 'Country':\n",
            "  - Tidak ada nilai inkonsisten/noise.\n",
            "Kolom 'League':\n",
            "  - Tidak ada nilai inkonsisten/noise.\n",
            "Kolom 'Club':\n",
            "  - Tidak ada nilai inkonsisten/noise.\n",
            "Kolom 'Player Names':\n",
            "  - Tidak ada nilai inkonsisten/noise.\n",
            "Kolom 'Matches_Played':\n",
            "  - Tidak ada nilai inkonsisten/noise.\n",
            "Kolom 'Substitution ':\n",
            "  - Tidak ada nilai inkonsisten/noise.\n",
            "Kolom 'Mins':\n",
            "  - Tidak ada nilai inkonsisten/noise.\n",
            "Kolom 'Goals':\n",
            "  - Tidak ada nilai inkonsisten/noise.\n",
            "Kolom 'xG':\n",
            "  - Tidak ada nilai inkonsisten/noise.\n",
            "Kolom 'xG Per Avg Match':\n",
            "  - Tidak ada nilai inkonsisten/noise.\n",
            "Kolom 'Shots':\n",
            "  - Tidak ada nilai inkonsisten/noise.\n",
            "Kolom 'OnTarget':\n",
            "  - Tidak ada nilai inkonsisten/noise.\n",
            "Kolom 'Shots Per Avg Match':\n",
            "  - Tidak ada nilai inkonsisten/noise.\n",
            "Kolom 'On Target Per Avg Match':\n",
            "  - Tidak ada nilai inkonsisten/noise.\n",
            "Kolom 'Year':\n",
            "  - Tidak ada nilai inkonsisten/noise.\n"
          ]
        }
      ]
    }
  ]
}